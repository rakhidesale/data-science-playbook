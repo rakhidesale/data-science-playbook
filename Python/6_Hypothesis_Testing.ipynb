{
  "nbformat": 4,
  "nbformat_minor": 0,
  "metadata": {
    "kernelspec": {
      "display_name": "Python 3",
      "language": "python",
      "name": "python3"
    },
    "language_info": {
      "codemirror_mode": {
        "name": "ipython",
        "version": 3
      },
      "file_extension": ".py",
      "mimetype": "text/x-python",
      "name": "python",
      "nbconvert_exporter": "python",
      "pygments_lexer": "ipython3",
      "version": "3.7.4"
    },
    "colab": {
      "provenance": []
    },
    "gpuClass": "standard"
  },
  "cells": [
    {
      "cell_type": "code",
      "metadata": {
        "id": "lUamWcSv9Iy7"
      },
      "source": [
        "#import the libraries\n",
        "import pandas as pd\n",
        "import numpy as np\n",
        "from scipy import stats"
      ],
      "execution_count": 1,
      "outputs": []
    },
    {
      "cell_type": "markdown",
      "metadata": {
        "id": "EZmTWLBk9IzE"
      },
      "source": [
        "## Super Market example\n",
        "\n",
        "\n",
        "\n",
        "\n",
        "\n"
      ]
    },
    {
      "cell_type": "code",
      "metadata": {
        "colab": {
          "base_uri": "https://localhost:8080/"
        },
        "id": "EbPWfEp49IzF",
        "outputId": "f28a3cfb-d001-4329-f395-1341a516f78a"
      },
      "source": [
        "1-(stats.t.cdf(2.2,df=79))"
      ],
      "execution_count": 2,
      "outputs": [
        {
          "output_type": "execute_result",
          "data": {
            "text/plain": [
              "np.float64(0.015364507770762481)"
            ]
          },
          "metadata": {},
          "execution_count": 2
        }
      ]
    },
    {
      "cell_type": "markdown",
      "metadata": {
        "id": "1mULoszZ9IzG"
      },
      "source": [
        "# Call Center example"
      ]
    },
    {
      "cell_type": "code",
      "source": [
        "# Call center example\n",
        "# 1st way\n",
        "p2=1-stats.t.cdf(1.4,49)\n",
        "p=p2*2\n",
        "p"
      ],
      "metadata": {
        "colab": {
          "base_uri": "https://localhost:8080/"
        },
        "id": "3VaTcNnPLQwm",
        "outputId": "6bc2f449-b900-4945-a7a5-e08118b84dc4"
      },
      "execution_count": 3,
      "outputs": [
        {
          "output_type": "execute_result",
          "data": {
            "text/plain": [
              "np.float64(0.16781331091681295)"
            ]
          },
          "metadata": {},
          "execution_count": 3
        }
      ]
    },
    {
      "cell_type": "code",
      "source": [
        "# Call center example\n",
        "# 2nd way\n",
        "p1=stats.t.cdf(-1.4,49)\n",
        "p=p1*2\n",
        "p"
      ],
      "metadata": {
        "colab": {
          "base_uri": "https://localhost:8080/"
        },
        "id": "h2LsfU7kMBrM",
        "outputId": "28501fd6-58e6-412d-c199-2eac4c519fc7"
      },
      "execution_count": 4,
      "outputs": [
        {
          "output_type": "execute_result",
          "data": {
            "text/plain": [
              "np.float64(0.16781331091681306)"
            ]
          },
          "metadata": {},
          "execution_count": 4
        }
      ]
    },
    {
      "cell_type": "code",
      "source": [
        "# Call center example\n",
        "\n",
        "# 3rd way\n",
        "p=2*stats.t.cdf(-1.4,49)\n",
        "print(p)\n",
        "#print(round(r,4))\n",
        "print(\"Rounded Value=\",round(p,4))\n"
      ],
      "metadata": {
        "id": "ehACYK4BDsY-",
        "colab": {
          "base_uri": "https://localhost:8080/"
        },
        "outputId": "afceb396-b859-4c85-d28f-f7589e4d1589"
      },
      "execution_count": 5,
      "outputs": [
        {
          "output_type": "stream",
          "name": "stdout",
          "text": [
            "0.16781331091681306\n",
            "Rounded Value= 0.1678\n"
          ]
        }
      ]
    },
    {
      "cell_type": "code",
      "metadata": {
        "id": "jd571TPa9IzH",
        "colab": {
          "base_uri": "https://localhost:8080/"
        },
        "outputId": "4735f333-d255-4ae7-b9eb-e844189484c3"
      },
      "source": [
        "import numpy as np\n",
        "from scipy import stats\n",
        "# to calculate t value\n",
        "t=(7.2-4)/(3/np.sqrt(50)) # t value for x bar=4.6, mu=4, s=3, n=50\n",
        "t"
      ],
      "execution_count": 6,
      "outputs": [
        {
          "output_type": "execute_result",
          "data": {
            "text/plain": [
              "np.float64(7.542472332656508)"
            ]
          },
          "metadata": {},
          "execution_count": 6
        }
      ]
    },
    {
      "cell_type": "code",
      "metadata": {
        "id": "ccJtViUf9IzH",
        "colab": {
          "base_uri": "https://localhost:8080/"
        },
        "outputId": "8597670b-7bb9-418a-f98f-8f2f175b0aac"
      },
      "source": [
        "p=2*stats.t.cdf(-7.5424,49)\n",
        "p"
      ],
      "execution_count": 7,
      "outputs": [
        {
          "output_type": "execute_result",
          "data": {
            "text/plain": [
              "np.float64(9.62851076804498e-10)"
            ]
          },
          "metadata": {},
          "execution_count": 7
        }
      ]
    },
    {
      "cell_type": "markdown",
      "metadata": {
        "id": "X44BOLSY9IzI"
      },
      "source": [
        "# One tail test"
      ]
    },
    {
      "cell_type": "code",
      "metadata": {
        "id": "5AdMc91m9IzJ"
      },
      "source": [
        "# Ice-cream factory example\n",
        "import pandas as pd\n",
        "from scipy import stats\n",
        "data=pd.Series([0.593, 0.142, 0.329, 0.691, 0.231, 0.793, 0.519, 0.392, 0.418])\n"
      ],
      "execution_count": 8,
      "outputs": []
    },
    {
      "cell_type": "code",
      "source": [
        "data"
      ],
      "metadata": {
        "id": "CmvRzvyhGu4c",
        "colab": {
          "base_uri": "https://localhost:8080/",
          "height": 366
        },
        "outputId": "7bb3bf63-c621-460a-e18a-8607917606d6"
      },
      "execution_count": 9,
      "outputs": [
        {
          "output_type": "execute_result",
          "data": {
            "text/plain": [
              "0    0.593\n",
              "1    0.142\n",
              "2    0.329\n",
              "3    0.691\n",
              "4    0.231\n",
              "5    0.793\n",
              "6    0.519\n",
              "7    0.392\n",
              "8    0.418\n",
              "dtype: float64"
            ],
            "text/html": [
              "<div>\n",
              "<style scoped>\n",
              "    .dataframe tbody tr th:only-of-type {\n",
              "        vertical-align: middle;\n",
              "    }\n",
              "\n",
              "    .dataframe tbody tr th {\n",
              "        vertical-align: top;\n",
              "    }\n",
              "\n",
              "    .dataframe thead th {\n",
              "        text-align: right;\n",
              "    }\n",
              "</style>\n",
              "<table border=\"1\" class=\"dataframe\">\n",
              "  <thead>\n",
              "    <tr style=\"text-align: right;\">\n",
              "      <th></th>\n",
              "      <th>0</th>\n",
              "    </tr>\n",
              "  </thead>\n",
              "  <tbody>\n",
              "    <tr>\n",
              "      <th>0</th>\n",
              "      <td>0.593</td>\n",
              "    </tr>\n",
              "    <tr>\n",
              "      <th>1</th>\n",
              "      <td>0.142</td>\n",
              "    </tr>\n",
              "    <tr>\n",
              "      <th>2</th>\n",
              "      <td>0.329</td>\n",
              "    </tr>\n",
              "    <tr>\n",
              "      <th>3</th>\n",
              "      <td>0.691</td>\n",
              "    </tr>\n",
              "    <tr>\n",
              "      <th>4</th>\n",
              "      <td>0.231</td>\n",
              "    </tr>\n",
              "    <tr>\n",
              "      <th>5</th>\n",
              "      <td>0.793</td>\n",
              "    </tr>\n",
              "    <tr>\n",
              "      <th>6</th>\n",
              "      <td>0.519</td>\n",
              "    </tr>\n",
              "    <tr>\n",
              "      <th>7</th>\n",
              "      <td>0.392</td>\n",
              "    </tr>\n",
              "    <tr>\n",
              "      <th>8</th>\n",
              "      <td>0.418</td>\n",
              "    </tr>\n",
              "  </tbody>\n",
              "</table>\n",
              "</div><br><label><b>dtype:</b> float64</label>"
            ]
          },
          "metadata": {},
          "execution_count": 9
        }
      ]
    },
    {
      "cell_type": "code",
      "source": [
        "stats.ttest_1samp(data,0.3) # population mean = 0.3, this method always give you 2 tail p-value\n",
        "# t-value=2.2050588385131595 and pvalue=0.05853032968489765 here, p = p1+p2\n",
        "# index of t-value is 0 and p-value is 1"
      ],
      "metadata": {
        "id": "U6G63lJCnnjV",
        "colab": {
          "base_uri": "https://localhost:8080/"
        },
        "outputId": "cbf6ab67-752b-4821-8560-d429c7b4fe1d"
      },
      "execution_count": 10,
      "outputs": [
        {
          "output_type": "execute_result",
          "data": {
            "text/plain": [
              "TtestResult(statistic=np.float64(2.2050588385131595), pvalue=np.float64(0.05853032968489765), df=np.int64(8))"
            ]
          },
          "metadata": {},
          "execution_count": 10
        }
      ]
    },
    {
      "cell_type": "code",
      "source": [
        "\n",
        "p=stats.ttest_1samp(data,0.3)[1] # mu=0.3, index of p-value is 1, so [1] is given\n",
        "# pvalue=0.05853032968489765 here, p = p1+p2\n",
        "p"
      ],
      "metadata": {
        "id": "BYRApn_AFU7w",
        "colab": {
          "base_uri": "https://localhost:8080/"
        },
        "outputId": "4b767f17-b5fa-4a51-9100-56a118f05d30"
      },
      "execution_count": 11,
      "outputs": [
        {
          "output_type": "execute_result",
          "data": {
            "text/plain": [
              "np.float64(0.05853032968489765)"
            ]
          },
          "metadata": {},
          "execution_count": 11
        }
      ]
    },
    {
      "cell_type": "code",
      "metadata": {
        "id": "F7kKghKC9IzJ",
        "colab": {
          "base_uri": "https://localhost:8080/"
        },
        "outputId": "4ff64451-1e70-488f-c3a6-6d54f81bd505"
      },
      "source": [
        "#As this is a one tail test p value so divide by 2 to get final p-value\n",
        "p_value= p/2\n",
        "p_value\n",
        "# Null Hypo. is Mu<=0.3, Alter. Hypo. is Mu>0.3,\n",
        "# Alfa = 0.05, P-value we got is 0.029 So p<alfa. So reject Null Hypo.\n",
        "# So go for Alt. Hypo.\n",
        "# interpret it: As mean value Mu >0.3 factory is causing problem."
      ],
      "execution_count": 12,
      "outputs": [
        {
          "output_type": "execute_result",
          "data": {
            "text/plain": [
              "np.float64(0.029265164842448826)"
            ]
          },
          "metadata": {},
          "execution_count": 12
        }
      ]
    },
    {
      "cell_type": "markdown",
      "metadata": {
        "id": "OQcLaxKQ9IzK"
      },
      "source": [
        "# Two Sample Two Tail test - From scipy - stats.ttest_ind(sample1, sample2)"
      ]
    },
    {
      "cell_type": "code",
      "metadata": {
        "id": "2H86Jc5K9IzK"
      },
      "source": [
        "# 2-Sample 2-tail test\n",
        "# comparing drugs - Control group and treatment group\n",
        "Control=pd.Series([91, 87, 99, 77, 88, 91])\n",
        "Treat =pd.Series([101, 110, 103, 93, 99, 104])"
      ],
      "execution_count": 13,
      "outputs": []
    },
    {
      "cell_type": "code",
      "metadata": {
        "id": "PRp0EbAK9IzK",
        "outputId": "c5825996-72bf-483a-ac77-9fe58a5cd697",
        "colab": {
          "base_uri": "https://localhost:8080/"
        }
      },
      "source": [
        "stats.ttest_ind(Control,Treat) # two tail independent\n",
        "# p=p1+p2. We are conducting 2 sample 2 tail test, so no need to divide p by 2.\n",
        "# p=0.006, alfa=0.05, p<alfa so reject null hypo. so accept alt. Hypo\n",
        "# interpretation: 2 responses are not equal so drug is working."
      ],
      "execution_count": 14,
      "outputs": [
        {
          "output_type": "execute_result",
          "data": {
            "text/plain": [
              "TtestResult(statistic=np.float64(-3.4456126735364876), pvalue=np.float64(0.006272124350809803), df=np.float64(10.0))"
            ]
          },
          "metadata": {},
          "execution_count": 14
        }
      ]
    },
    {
      "cell_type": "markdown",
      "metadata": {
        "id": "94BexGGD9IzL"
      },
      "source": [
        "# 2 Proportion t-Test - From statsmodels.api - stats.ttest_ind(proportion1, proportion2)"
      ]
    },
    {
      "cell_type": "code",
      "metadata": {
        "id": "zYXEJkmZ9IzL"
      },
      "source": [
        "import numpy as np"
      ],
      "execution_count": 15,
      "outputs": []
    },
    {
      "cell_type": "code",
      "metadata": {
        "id": "6NHBJpRp9IzL"
      },
      "source": [
        "#Data: Placement Data example\n",
        "\n",
        "n1 = 247\n",
        "p1 = .37 # proportion is 0.37\n",
        "\n",
        "n2 = 308\n",
        "p2 = .39 # proportion is 0.39"
      ],
      "execution_count": 16,
      "outputs": []
    },
    {
      "cell_type": "code",
      "metadata": {
        "id": "p5gM6Lar9IzM"
      },
      "source": [
        "sample1 = np.random.binomial(1, p1, n1) # 1 - placed i.e. probability of success, 0-not placed"
      ],
      "execution_count": 17,
      "outputs": []
    },
    {
      "cell_type": "code",
      "source": [
        "sample1 # 247 student's data. 0-not placed, 1-placed"
      ],
      "metadata": {
        "id": "Txx65lYRP1O6",
        "colab": {
          "base_uri": "https://localhost:8080/"
        },
        "outputId": "46b0d268-7bbc-4a97-8d44-6e2191f78651"
      },
      "execution_count": 18,
      "outputs": [
        {
          "output_type": "execute_result",
          "data": {
            "text/plain": [
              "array([0, 0, 0, 0, 0, 1, 1, 0, 0, 1, 0, 0, 0, 0, 1, 0, 1, 0, 0, 1, 0, 0,\n",
              "       0, 0, 1, 0, 0, 1, 1, 1, 1, 0, 1, 1, 1, 0, 0, 1, 0, 1, 1, 0, 0, 0,\n",
              "       1, 1, 1, 0, 1, 0, 0, 0, 1, 0, 0, 1, 0, 1, 1, 0, 0, 1, 1, 0, 1, 0,\n",
              "       0, 0, 1, 0, 0, 1, 1, 1, 0, 0, 1, 0, 0, 0, 0, 0, 0, 0, 0, 1, 1, 0,\n",
              "       1, 0, 0, 0, 1, 0, 0, 0, 1, 1, 1, 0, 0, 1, 1, 0, 1, 0, 0, 1, 0, 0,\n",
              "       1, 0, 0, 1, 0, 0, 1, 1, 0, 0, 0, 1, 1, 1, 0, 0, 0, 0, 0, 1, 0, 0,\n",
              "       1, 1, 0, 1, 0, 0, 0, 0, 0, 1, 1, 0, 1, 1, 0, 0, 0, 0, 0, 1, 0, 1,\n",
              "       0, 0, 1, 0, 0, 0, 0, 1, 0, 0, 0, 1, 1, 1, 0, 0, 1, 0, 1, 1, 1, 0,\n",
              "       0, 0, 1, 1, 1, 1, 0, 1, 1, 0, 1, 0, 0, 0, 0, 0, 0, 1, 0, 0, 0, 0,\n",
              "       0, 1, 0, 0, 0, 0, 0, 0, 1, 0, 0, 0, 0, 0, 0, 0, 0, 0, 0, 1, 0, 0,\n",
              "       0, 0, 0, 0, 1, 0, 0, 0, 0, 0, 1, 1, 0, 1, 0, 0, 0, 0, 1, 1, 0, 0,\n",
              "       0, 0, 0, 0, 0])"
            ]
          },
          "metadata": {},
          "execution_count": 18
        }
      ]
    },
    {
      "cell_type": "code",
      "source": [
        "len(sample1)"
      ],
      "metadata": {
        "colab": {
          "base_uri": "https://localhost:8080/"
        },
        "id": "cScR1POLu1ti",
        "outputId": "ad474dbe-3a06-48c9-bbc2-e2bdd236cec4"
      },
      "execution_count": 19,
      "outputs": [
        {
          "output_type": "execute_result",
          "data": {
            "text/plain": [
              "247"
            ]
          },
          "metadata": {},
          "execution_count": 19
        }
      ]
    },
    {
      "cell_type": "code",
      "source": [
        "sample1.mean()"
      ],
      "metadata": {
        "colab": {
          "base_uri": "https://localhost:8080/"
        },
        "id": "J5XeOhhlu7PW",
        "outputId": "df5af214-39fc-4657-d25d-cee7dfcdd8b9"
      },
      "execution_count": 20,
      "outputs": [
        {
          "output_type": "execute_result",
          "data": {
            "text/plain": [
              "np.float64(0.3522267206477733)"
            ]
          },
          "metadata": {},
          "execution_count": 20
        }
      ]
    },
    {
      "cell_type": "code",
      "source": [
        "sample2 = np.random.binomial(1, p2, n2) # as its a random function every time you execute, you will get diff ans."
      ],
      "metadata": {
        "id": "wX9tK00Uwjbc"
      },
      "execution_count": 21,
      "outputs": []
    },
    {
      "cell_type": "code",
      "metadata": {
        "id": "ikgv7zTZ9IzN",
        "colab": {
          "base_uri": "https://localhost:8080/"
        },
        "outputId": "20c1de06-f009-4c95-ace9-48df1ae4f732"
      },
      "source": [
        "sample2"
      ],
      "execution_count": 22,
      "outputs": [
        {
          "output_type": "execute_result",
          "data": {
            "text/plain": [
              "array([1, 0, 1, 1, 1, 0, 0, 0, 0, 1, 0, 0, 0, 1, 0, 0, 0, 0, 0, 0, 0, 1,\n",
              "       0, 1, 0, 1, 0, 0, 1, 0, 1, 1, 0, 0, 1, 0, 0, 0, 0, 0, 1, 1, 1, 0,\n",
              "       0, 1, 0, 0, 0, 1, 0, 0, 1, 0, 1, 1, 0, 1, 1, 1, 1, 0, 0, 0, 0, 0,\n",
              "       1, 0, 1, 0, 1, 1, 0, 0, 1, 0, 1, 1, 1, 0, 0, 1, 0, 1, 0, 0, 0, 1,\n",
              "       0, 1, 0, 0, 0, 0, 0, 1, 0, 0, 0, 0, 0, 0, 0, 0, 1, 0, 0, 0, 0, 1,\n",
              "       1, 0, 1, 1, 0, 1, 0, 0, 1, 0, 1, 0, 1, 0, 0, 0, 0, 0, 0, 0, 0, 0,\n",
              "       0, 1, 1, 0, 0, 0, 0, 1, 1, 0, 1, 1, 1, 1, 0, 0, 0, 1, 0, 0, 0, 1,\n",
              "       1, 0, 0, 1, 1, 0, 1, 1, 0, 0, 0, 0, 1, 1, 0, 0, 0, 0, 0, 0, 0, 0,\n",
              "       1, 1, 0, 0, 1, 0, 0, 0, 0, 0, 0, 0, 0, 0, 0, 1, 0, 0, 0, 0, 0, 1,\n",
              "       1, 1, 0, 0, 0, 0, 0, 0, 0, 0, 1, 0, 0, 0, 0, 0, 0, 1, 1, 0, 0, 0,\n",
              "       0, 0, 1, 0, 1, 0, 1, 1, 1, 0, 0, 1, 1, 0, 0, 1, 0, 1, 0, 0, 0, 0,\n",
              "       1, 1, 1, 1, 0, 1, 0, 0, 1, 0, 0, 1, 0, 0, 1, 0, 1, 0, 0, 1, 0, 0,\n",
              "       0, 0, 1, 0, 0, 0, 0, 0, 1, 0, 0, 0, 0, 0, 1, 1, 1, 0, 0, 1, 0, 0,\n",
              "       1, 1, 1, 0, 0, 1, 0, 1, 0, 0, 1, 0, 0, 0, 0, 0, 0, 1, 0, 0, 1, 0])"
            ]
          },
          "metadata": {},
          "execution_count": 22
        }
      ]
    },
    {
      "cell_type": "code",
      "source": [
        "len(sample2)"
      ],
      "metadata": {
        "colab": {
          "base_uri": "https://localhost:8080/"
        },
        "id": "Eeh6o5Plu16K",
        "outputId": "80f1e4dc-b067-4e22-ad36-2c906a663ae1"
      },
      "execution_count": 23,
      "outputs": [
        {
          "output_type": "execute_result",
          "data": {
            "text/plain": [
              "308"
            ]
          },
          "metadata": {},
          "execution_count": 23
        }
      ]
    },
    {
      "cell_type": "code",
      "source": [
        "sample2.mean()"
      ],
      "metadata": {
        "colab": {
          "base_uri": "https://localhost:8080/"
        },
        "id": "tThRZtSMvEyR",
        "outputId": "4e3c72c2-cab1-45d1-ef95-cc88ae63ce87"
      },
      "execution_count": 24,
      "outputs": [
        {
          "output_type": "execute_result",
          "data": {
            "text/plain": [
              "np.float64(0.3474025974025974)"
            ]
          },
          "metadata": {},
          "execution_count": 24
        }
      ]
    },
    {
      "cell_type": "code",
      "metadata": {
        "id": "cOKI7ZtV9IzO",
        "colab": {
          "base_uri": "https://localhost:8080/"
        },
        "outputId": "a7ef3e1f-4a82-4a9b-c987-e8d85b6b3c36"
      },
      "source": [
        "import statsmodels.api as sm # two proportion test function is available in statsmodels.api only\n",
        "p=sm.stats.ttest_ind(sample1, sample2)[1]# 2 sample, 2 tail test. Middle is the p-value\n",
        "# p>0.05 so accept null hypo.\n",
        "# interpretation: students are almost equally got placed in 2 states.\n",
        "# i.e. no significant difference in providing placement opportunities to students in 2 states.\n",
        "print(p)\n",
        "print(round(p,3))"
      ],
      "execution_count": 25,
      "outputs": [
        {
          "output_type": "stream",
          "name": "stdout",
          "text": [
            "0.9059222868625867\n",
            "0.906\n"
          ]
        }
      ]
    },
    {
      "cell_type": "code",
      "source": [
        "a=0.05\n",
        "if p>a:\n",
        "  print(f'Accept null hypothesis.\\n--------------------------')\n",
        "else:\n",
        "  print(f'Accept alternativ hypothesis.\\n-------------------')"
      ],
      "metadata": {
        "colab": {
          "base_uri": "https://localhost:8080/"
        },
        "id": "6yn6hVkqxZg7",
        "outputId": "02962d49-a6d5-4772-c159-83a56db4aea4"
      },
      "execution_count": 26,
      "outputs": [
        {
          "output_type": "stream",
          "name": "stdout",
          "text": [
            "Accept null hypothesis.\n",
            "--------------------------\n"
          ]
        }
      ]
    },
    {
      "cell_type": "code",
      "metadata": {
        "id": "lLaD7lEn9IzP",
        "colab": {
          "base_uri": "https://localhost:8080/"
        },
        "outputId": "2b524b9b-d3c7-4945-b34d-cae8113b7ca9"
      },
      "source": [
        "import statsmodels.api as sm\n",
        "\n",
        "a=0.05 # alpha\n",
        "\n",
        "sample1 = np.random.binomial(1, p1, n1)\n",
        "sample2 = np.random.binomial(1, p2, n2)\n",
        "\n",
        "p=sm.stats.ttest_ind(sample1, sample2)[1]\n",
        "print(p)\n",
        "print(round(p,3))\n",
        "if p>a:\n",
        "  print(f'Accept null hypothesis.\\n--------------------------')\n",
        "else:\n",
        "  print(f'Accept alternativ hypothesis.\\n-------------------')"
      ],
      "execution_count": 27,
      "outputs": [
        {
          "output_type": "stream",
          "name": "stdout",
          "text": [
            "0.84937167825166\n",
            "0.849\n",
            "Accept null hypothesis.\n",
            "--------------------------\n"
          ]
        }
      ]
    },
    {
      "cell_type": "code",
      "source": [
        "n1 = 10\n",
        "p1 = 0.84 # proportion is 0.84\n",
        "\n",
        "n2 = 10\n",
        "p2 = .6\n",
        "\n",
        "sample1 = np.random.binomial(1, p1, n1)\n",
        "print(sample1)\n",
        "print(sample1.mean())\n",
        "sample2 = np.random.binomial(1, p2, n2)\n",
        "print(sample2)\n",
        "print(sample2.mean())"
      ],
      "metadata": {
        "colab": {
          "base_uri": "https://localhost:8080/"
        },
        "id": "4FD9rS07iDme",
        "outputId": "996dce77-f954-49f9-e12b-900c0b33afc4"
      },
      "execution_count": 34,
      "outputs": [
        {
          "output_type": "stream",
          "name": "stdout",
          "text": [
            "[1 1 0 1 1 1 1 1 1 1]\n",
            "0.9\n",
            "[0 0 0 1 1 1 0 1 0 0]\n",
            "0.4\n"
          ]
        }
      ]
    }
  ]
}